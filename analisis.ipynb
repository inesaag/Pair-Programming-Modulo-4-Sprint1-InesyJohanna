{
 "cells": [
  {
   "cell_type": "code",
   "execution_count": 2,
   "metadata": {},
   "outputs": [],
   "source": [
    "import pandas as pd\n",
    "pd.set_option('display.max_columns', None)"
   ]
  },
  {
   "cell_type": "markdown",
   "metadata": {},
   "source": [
    "- unificar episodes y episodes 2\n",
    "- mirar la tabla de guion como conectamos con episodios\n"
   ]
  },
  {
   "cell_type": "code",
   "execution_count": 75,
   "metadata": {},
   "outputs": [
    {
     "name": "stderr",
     "output_type": "stream",
     "text": [
      "/tmp/ipykernel_13771/569419223.py:6: DtypeWarning: Columns (5,6,7) have mixed types. Specify dtype option on import or set low_memory=False.\n",
      "  guion = pd.read_csv('files/simpsons_script_lines.csv')  #aparece también localizacion\n"
     ]
    }
   ],
   "source": [
    "premios = pd.read_csv('files/character_award.csv')\n",
    "episodios = pd.read_csv('files/episode.csv')\n",
    "categoria_episodio = pd.read_csv('files/keyword.csv')\n",
    "cameos = pd.read_csv('files/person.csv')\n",
    "episodios2 = pd.read_csv('files/simpsons_episodes.csv')\n",
    "guion = pd.read_csv('files/simpsons_script_lines.csv')  #aparece también localizacion\n"
   ]
  },
  {
   "cell_type": "code",
   "execution_count": 35,
   "metadata": {},
   "outputs": [
    {
     "data": {
      "text/html": [
       "<div>\n",
       "<style scoped>\n",
       "    .dataframe tbody tr th:only-of-type {\n",
       "        vertical-align: middle;\n",
       "    }\n",
       "\n",
       "    .dataframe tbody tr th {\n",
       "        vertical-align: top;\n",
       "    }\n",
       "\n",
       "    .dataframe thead th {\n",
       "        text-align: right;\n",
       "    }\n",
       "</style>\n",
       "<table border=\"1\" class=\"dataframe\">\n",
       "  <thead>\n",
       "    <tr style=\"text-align: right;\">\n",
       "      <th></th>\n",
       "      <th>episode_id</th>\n",
       "      <th>season</th>\n",
       "      <th>episode</th>\n",
       "      <th>number_in_series</th>\n",
       "      <th>title</th>\n",
       "      <th>summary</th>\n",
       "      <th>air_date</th>\n",
       "      <th>episode_image</th>\n",
       "      <th>rating</th>\n",
       "      <th>votes</th>\n",
       "    </tr>\n",
       "  </thead>\n",
       "  <tbody>\n",
       "    <tr>\n",
       "      <th>0</th>\n",
       "      <td>S1-E1</td>\n",
       "      <td>1</td>\n",
       "      <td>1</td>\n",
       "      <td>1</td>\n",
       "      <td>Simpsons Roasting on an Open Fire</td>\n",
       "      <td>The family is forced to spend all of their sav...</td>\n",
       "      <td>1989-12-17</td>\n",
       "      <td>https://m.media-amazon.com/images/M/MV5BZjJjMz...</td>\n",
       "      <td>8.1</td>\n",
       "      <td>5499.0</td>\n",
       "    </tr>\n",
       "    <tr>\n",
       "      <th>1</th>\n",
       "      <td>S1-E2</td>\n",
       "      <td>1</td>\n",
       "      <td>2</td>\n",
       "      <td>2</td>\n",
       "      <td>Bart the Genius</td>\n",
       "      <td>Bart ends up at a school for gifted children a...</td>\n",
       "      <td>1990-01-14</td>\n",
       "      <td>https://m.media-amazon.com/images/M/MV5BOTA0MT...</td>\n",
       "      <td>7.8</td>\n",
       "      <td>3456.0</td>\n",
       "    </tr>\n",
       "    <tr>\n",
       "      <th>2</th>\n",
       "      <td>S1-E3</td>\n",
       "      <td>1</td>\n",
       "      <td>3</td>\n",
       "      <td>3</td>\n",
       "      <td>Homer's Odyssey</td>\n",
       "      <td>After losing his job, Homer contemplates endin...</td>\n",
       "      <td>1990-01-21</td>\n",
       "      <td>https://m.media-amazon.com/images/M/MV5BMzQ3M2...</td>\n",
       "      <td>7.4</td>\n",
       "      <td>3034.0</td>\n",
       "    </tr>\n",
       "  </tbody>\n",
       "</table>\n",
       "</div>"
      ],
      "text/plain": [
       "  episode_id  season  episode  number_in_series  \\\n",
       "0      S1-E1       1        1                 1   \n",
       "1      S1-E2       1        2                 2   \n",
       "2      S1-E3       1        3                 3   \n",
       "\n",
       "                               title  \\\n",
       "0  Simpsons Roasting on an Open Fire   \n",
       "1                    Bart the Genius   \n",
       "2                    Homer's Odyssey   \n",
       "\n",
       "                                             summary    air_date  \\\n",
       "0  The family is forced to spend all of their sav...  1989-12-17   \n",
       "1  Bart ends up at a school for gifted children a...  1990-01-14   \n",
       "2  After losing his job, Homer contemplates endin...  1990-01-21   \n",
       "\n",
       "                                       episode_image  rating   votes  \n",
       "0  https://m.media-amazon.com/images/M/MV5BZjJjMz...     8.1  5499.0  \n",
       "1  https://m.media-amazon.com/images/M/MV5BOTA0MT...     7.8  3456.0  \n",
       "2  https://m.media-amazon.com/images/M/MV5BMzQ3M2...     7.4  3034.0  "
      ]
     },
     "execution_count": 35,
     "metadata": {},
     "output_type": "execute_result"
    }
   ],
   "source": [
    "episodios.head(3)"
   ]
  },
  {
   "cell_type": "code",
   "execution_count": 58,
   "metadata": {},
   "outputs": [],
   "source": [
    "columnas_a_eliminar = ['rating', 'votes']\n",
    "episodios = episodios.drop(columnas_a_eliminar, axis=1)"
   ]
  },
  {
   "cell_type": "code",
   "execution_count": 63,
   "metadata": {},
   "outputs": [],
   "source": [
    "columnas_a_eliminar2 = ['index', 'id', 'image_url', 'number_in_season',\t'number_in_series',\t'original_air_date', 'original_air_year','production_code',\t'season', 'video_url', 'views']\n",
    "episodios2 = episodios2.drop(columnas_a_eliminar2, axis=1)"
   ]
  },
  {
   "cell_type": "code",
   "execution_count": 65,
   "metadata": {},
   "outputs": [],
   "source": [
    "episodios_total = pd.merge(episodios, episodios2, on='title', how='left')"
   ]
  },
  {
   "cell_type": "code",
   "execution_count": 88,
   "metadata": {},
   "outputs": [],
   "source": [
    "categorias = categoria_episodio[categoria_episodio['keyword'].map(categoria_episodio['keyword'].value_counts()) >= 7]"
   ]
  },
  {
   "cell_type": "code",
   "execution_count": null,
   "metadata": {},
   "outputs": [],
   "source": [
    "for i, registro in categorias.iterrows():\n",
    "    if registro['keyword'] not in ['halloween', 'christmas']:\n",
    "        categorias.drop(i, inplace=True)"
   ]
  },
  {
   "cell_type": "code",
   "execution_count": 101,
   "metadata": {},
   "outputs": [
    {
     "data": {
      "text/plain": [
       "keyword\n",
       "halloween    31\n",
       "christmas    16\n",
       "Name: count, dtype: int64"
      ]
     },
     "execution_count": 101,
     "metadata": {},
     "output_type": "execute_result"
    }
   ],
   "source": [
    "categorias['keyword'].value_counts()"
   ]
  },
  {
   "cell_type": "code",
   "execution_count": 102,
   "metadata": {},
   "outputs": [],
   "source": [
    "episodios_categorias = pd.merge(episodios_total, categorias, on='episode_id', how='left')"
   ]
  },
  {
   "cell_type": "code",
   "execution_count": 110,
   "metadata": {},
   "outputs": [],
   "source": [
    "registro_a_eliminar = episodios_categorias[(episodios_categorias['episode_id'] == 'S20-E4') & (episodios_categorias['keyword'] == 'christmas')]\n",
    "indice_registro = registro_a_eliminar.index\n",
    "\n",
    "episodios_categorias.drop(indice_registro, inplace=True)"
   ]
  },
  {
   "cell_type": "code",
   "execution_count": 112,
   "metadata": {},
   "outputs": [],
   "source": [
    "episodios_categorias.to_csv('files/episodios_clean.csv')"
   ]
  },
  {
   "cell_type": "code",
   "execution_count": 113,
   "metadata": {},
   "outputs": [
    {
     "data": {
      "text/plain": [
       "(683, 12)"
      ]
     },
     "execution_count": 113,
     "metadata": {},
     "output_type": "execute_result"
    }
   ],
   "source": [
    "episodios_categorias.shape"
   ]
  }
 ],
 "metadata": {
  "kernelspec": {
   "display_name": "base",
   "language": "python",
   "name": "python3"
  },
  "language_info": {
   "codemirror_mode": {
    "name": "ipython",
    "version": 3
   },
   "file_extension": ".py",
   "mimetype": "text/x-python",
   "name": "python",
   "nbconvert_exporter": "python",
   "pygments_lexer": "ipython3",
   "version": "3.11.5"
  }
 },
 "nbformat": 4,
 "nbformat_minor": 2
}
